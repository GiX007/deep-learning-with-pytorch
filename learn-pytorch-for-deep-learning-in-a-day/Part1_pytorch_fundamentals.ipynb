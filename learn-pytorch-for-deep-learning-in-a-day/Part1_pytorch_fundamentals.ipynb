{
  "nbformat": 4,
  "nbformat_minor": 0,
  "metadata": {
    "colab": {
      "provenance": [],
      "collapsed_sections": [
        "iQDdEg0dsIjX",
        "zC2Llt9zsObz",
        "OvTrTKe92n-p",
        "fIfzBFsr5hi-",
        "CAVXN1Zo6jJ8",
        "9qNkrmb083mj",
        "attHerTHbNB7",
        "fpwFo4eAeebK",
        "YpYfLtwBuaUX",
        "LOkp9TWg4yk0",
        "pOWJdvrDGxyC",
        "WC7_yVP-LojG",
        "cJjoEeWyQqNE",
        "WuTzR7yRmmec",
        "LlMcI3_SrcQv",
        "8o1fVsHbwB7A"
      ],
      "authorship_tag": "ABX9TyMCygZAooCFumSWaEO3hmkX",
      "include_colab_link": true
    },
    "kernelspec": {
      "name": "python3",
      "display_name": "Python 3"
    },
    "language_info": {
      "name": "python"
    },
    "gpuClass": "standard",
    "accelerator": "GPU"
  },
  "cells": [
    {
      "cell_type": "markdown",
      "metadata": {
        "id": "view-in-github",
        "colab_type": "text"
      },
      "source": [
        "<a href=\"https://colab.research.google.com/github/GiX7000/deep-learning-with-pytorch/blob/main/learn-pytorch-for-deep-learning-in-a-day/Part1_pytorch_fundamentals.ipynb\" target=\"_parent\"><img src=\"https://colab.research.google.com/assets/colab-badge.svg\" alt=\"Open In Colab\"/></a>"
      ]
    },
    {
      "cell_type": "markdown",
      "source": [
        "This notebook is the first of a series of notebooks introducing deep learning with Pytorch, following [Daniel's](https://github.com/mrdbourke/pytorch-deep-learning) tutorial. The groundtruth for everything in Pytorch is here: https://pytorch.org/."
      ],
      "metadata": {
        "id": "kJSWcykZYmmp"
      }
    },
    {
      "cell_type": "markdown",
      "source": [
        "## Introduction to Tensors."
      ],
      "metadata": {
        "id": "iQDdEg0dsIjX"
      }
    },
    {
      "cell_type": "markdown",
      "source": [
        "### Creating tensors."
      ],
      "metadata": {
        "id": "zC2Llt9zsObz"
      }
    },
    {
      "cell_type": "code",
      "source": [
        "import torch \n",
        "print(torch.__version__)"
      ],
      "metadata": {
        "id": "jsi38iJCZI0-",
        "colab": {
          "base_uri": "https://localhost:8080/"
        },
        "outputId": "33bfd980-ecde-4102-ee34-796e867f03a0"
      },
      "execution_count": null,
      "outputs": [
        {
          "output_type": "stream",
          "name": "stdout",
          "text": [
            "1.13.0+cu116\n"
          ]
        }
      ]
    },
    {
      "cell_type": "code",
      "source": [
        "# scalar\n",
        "scalar = torch.tensor(7)\n",
        "print(scalar)\n",
        "\n",
        "# get the dimensions of a tensor\n",
        "print(scalar.ndim)\n",
        "\n",
        "# get the tensor back as python int\n",
        "print(scalar.item())"
      ],
      "metadata": {
        "id": "R03MjP02ZIxm",
        "colab": {
          "base_uri": "https://localhost:8080/"
        },
        "outputId": "ee79bce5-8004-4afd-8773-75920f38cf68"
      },
      "execution_count": null,
      "outputs": [
        {
          "output_type": "stream",
          "name": "stdout",
          "text": [
            "tensor(7)\n",
            "0\n",
            "7\n"
          ]
        }
      ]
    },
    {
      "cell_type": "code",
      "source": [
        "# vector\n",
        "vector = torch.tensor([7, 7])\n",
        "print(vector)\n",
        "\n",
        "print(vector.ndim) # think ndim as the number of pairs of square brackets []\n",
        "\n",
        "# get the total number of elements of a vector\n",
        "print(vector.shape) "
      ],
      "metadata": {
        "colab": {
          "base_uri": "https://localhost:8080/"
        },
        "id": "CDLDg6cZp8R_",
        "outputId": "8edfd76d-9259-4d5c-dd1c-2bbb75770e8c"
      },
      "execution_count": null,
      "outputs": [
        {
          "output_type": "stream",
          "name": "stdout",
          "text": [
            "tensor([7, 7])\n",
            "1\n",
            "torch.Size([2])\n"
          ]
        }
      ]
    },
    {
      "cell_type": "code",
      "source": [
        "# MATRIX\n",
        "MATRIX = torch.tensor([[7, 8],\n",
        "                       [9, 10]])\n",
        "\n",
        "print(MATRIX)\n",
        "print(MATRIX.ndim) # 2 pairs of [] here\n",
        "\n",
        "#get the shape of the matrix\n",
        "print(MATRIX.shape)\n",
        "\n",
        "# get what we have in the first dimension\n",
        "print(MATRIX[0])\n",
        "\n",
        "# get what we have in the second dimension\n",
        "print(MATRIX[1])"
      ],
      "metadata": {
        "colab": {
          "base_uri": "https://localhost:8080/"
        },
        "id": "mmK67BLjp8Nq",
        "outputId": "5b40a3cb-8895-44a7-847a-dec85f6b2613"
      },
      "execution_count": null,
      "outputs": [
        {
          "output_type": "stream",
          "name": "stdout",
          "text": [
            "tensor([[ 7,  8],\n",
            "        [ 9, 10]])\n",
            "2\n",
            "torch.Size([2, 2])\n",
            "tensor([7, 8])\n",
            "tensor([ 9, 10])\n"
          ]
        }
      ]
    },
    {
      "cell_type": "code",
      "source": [
        "# TENSOR\n",
        "TENSOR = torch.tensor([[[1, 2, 3, 4],\n",
        "                        [10, 11, 12, 13],\n",
        "                        [14, 15, 16, 17]]])\n",
        "print(TENSOR)\n",
        "print(TENSOR.ndim)  # 3 pairs of [] here\n",
        "\n",
        "#get the shape of the tensor\n",
        "print(TENSOR.shape)\n",
        "\n",
        "# get what we have in the first dimension\n",
        "print(TENSOR[0]) # one 3x4 matrix(defined by outer [])"
      ],
      "metadata": {
        "colab": {
          "base_uri": "https://localhost:8080/"
        },
        "id": "8S6zrKF7uEKk",
        "outputId": "fda2ecdf-c143-4a0d-f922-cd20efcef720"
      },
      "execution_count": null,
      "outputs": [
        {
          "output_type": "stream",
          "name": "stdout",
          "text": [
            "tensor([[[ 1,  2,  3,  4],\n",
            "         [10, 11, 12, 13],\n",
            "         [14, 15, 16, 17]]])\n",
            "3\n",
            "torch.Size([1, 3, 4])\n",
            "tensor([[ 1,  2,  3,  4],\n",
            "        [10, 11, 12, 13],\n",
            "        [14, 15, 16, 17]])\n"
          ]
        }
      ]
    },
    {
      "cell_type": "code",
      "source": [
        "# TENSOR 2\n",
        "TENSOR2 = torch.tensor([ [[1, 2, 3, 4],\n",
        "                          [10, 11, 12, 13],\n",
        "                          [14, 15, 16, 17]],\n",
        "                        \n",
        "                          [[1, 2, 3, 4],\n",
        "                          [0, 1, 2, 3],\n",
        "                          [14, 15, 16, 17]]\n",
        "                        \n",
        "                                              \n",
        "                        ])\n",
        "print(TENSOR2)\n",
        "print(TENSOR2.ndim)  # 3 pairs of [] here\n",
        "\n",
        "#get the shape of the tensor\n",
        "print(TENSOR2.shape)\n",
        "\n",
        "# get what we have in the first dimension\n",
        "print(TENSOR2[0]) # the first 3x4 matrix\n",
        "print(TENSOR2[1]) # the second 3x4 matrix"
      ],
      "metadata": {
        "colab": {
          "base_uri": "https://localhost:8080/"
        },
        "id": "-BAWj61GuKFl",
        "outputId": "38d240f5-194d-4880-b980-d8a5bf576a9a"
      },
      "execution_count": null,
      "outputs": [
        {
          "output_type": "stream",
          "name": "stdout",
          "text": [
            "tensor([[[ 1,  2,  3,  4],\n",
            "         [10, 11, 12, 13],\n",
            "         [14, 15, 16, 17]],\n",
            "\n",
            "        [[ 1,  2,  3,  4],\n",
            "         [ 0,  1,  2,  3],\n",
            "         [14, 15, 16, 17]]])\n",
            "3\n",
            "torch.Size([2, 3, 4])\n",
            "tensor([[ 1,  2,  3,  4],\n",
            "        [10, 11, 12, 13],\n",
            "        [14, 15, 16, 17]])\n",
            "tensor([[ 1,  2,  3,  4],\n",
            "        [ 0,  1,  2,  3],\n",
            "        [14, 15, 16, 17]])\n"
          ]
        }
      ]
    },
    {
      "cell_type": "code",
      "source": [
        "# get the shape of the first element of the first dimension\n",
        "print(TENSOR2[0].shape)\n",
        "\n",
        "# get the last down right element\n",
        "print(TENSOR2[1][2][3].item())"
      ],
      "metadata": {
        "colab": {
          "base_uri": "https://localhost:8080/"
        },
        "id": "NTzzODZew8uc",
        "outputId": "1dbd4f3e-2922-4b17-bdd0-1ecf884ce6b5"
      },
      "execution_count": null,
      "outputs": [
        {
          "output_type": "stream",
          "name": "stdout",
          "text": [
            "torch.Size([3, 4])\n",
            "17\n"
          ]
        }
      ]
    },
    {
      "cell_type": "markdown",
      "source": [
        "### Random tensors.\n",
        "\n"
      ],
      "metadata": {
        "id": "OvTrTKe92n-p"
      }
    },
    {
      "cell_type": "markdown",
      "source": [
        "They are important because the way many neural networks learn is that they start with tensors full of random numbers and they adjust those random numbers to better represent the data."
      ],
      "metadata": {
        "id": "x-ydsVSs9NLl"
      }
    },
    {
      "cell_type": "code",
      "source": [
        "# create a random tensor of 3x4\n",
        "random_tensor = torch.rand(3, 4)\n",
        "print(random_tensor)\n",
        "\n",
        "print(random_tensor.ndim)"
      ],
      "metadata": {
        "colab": {
          "base_uri": "https://localhost:8080/"
        },
        "id": "gEwtmpFcw8re",
        "outputId": "5ca4b1ad-2e5e-42e5-f7b1-2152e3d46029"
      },
      "execution_count": null,
      "outputs": [
        {
          "output_type": "stream",
          "name": "stdout",
          "text": [
            "tensor([[0.8027, 0.8421, 0.1014, 0.2576],\n",
            "        [0.0975, 0.4812, 0.7226, 0.4276],\n",
            "        [0.3530, 0.8394, 0.6771, 0.3653]])\n",
            "2\n"
          ]
        }
      ]
    },
    {
      "cell_type": "code",
      "source": [
        "random_tensor2 = torch.rand(2, 3, 4)\n",
        "print(random_tensor2)\n",
        "\n",
        "print(random_tensor2.ndim)"
      ],
      "metadata": {
        "colab": {
          "base_uri": "https://localhost:8080/"
        },
        "id": "VRcnkh212aAK",
        "outputId": "1c5fda2d-ba19-408c-d8aa-cfcef73e5900"
      },
      "execution_count": null,
      "outputs": [
        {
          "output_type": "stream",
          "name": "stdout",
          "text": [
            "tensor([[[0.7233, 0.2361, 0.4983, 0.4425],\n",
            "         [0.5190, 0.3832, 0.1927, 0.1821],\n",
            "         [0.8219, 0.8055, 0.9892, 0.7574]],\n",
            "\n",
            "        [[0.3381, 0.9666, 0.5234, 0.2230],\n",
            "         [0.6783, 0.9407, 0.9849, 0.8303],\n",
            "         [0.2158, 0.6144, 0.4595, 0.6001]]])\n",
            "3\n"
          ]
        }
      ]
    },
    {
      "cell_type": "code",
      "source": [
        "# create a random tensor with similar shape to an image shape\n",
        "random_image_size_tensor = torch.rand(size=(224, 224, 3)) # height, width, colour channels(R, G, B)\n",
        "print(random_image_size_tensor)\n",
        "\n",
        "# get the dimension and the shape of the tensor\n",
        "print(random_image_size_tensor.ndim)\n",
        "print(random_image_size_tensor.shape)"
      ],
      "metadata": {
        "colab": {
          "base_uri": "https://localhost:8080/"
        },
        "id": "Jx98jb2s2Z8v",
        "outputId": "e313cf90-c5a6-4a0a-d501-c6e6f6c692c4"
      },
      "execution_count": null,
      "outputs": [
        {
          "output_type": "stream",
          "name": "stdout",
          "text": [
            "tensor([[[0.9260, 0.6969, 0.6044],\n",
            "         [0.7244, 0.1014, 0.5450],\n",
            "         [0.6907, 0.7149, 0.8383],\n",
            "         ...,\n",
            "         [0.4287, 0.1588, 0.3174],\n",
            "         [0.2687, 0.5764, 0.0609],\n",
            "         [0.1395, 0.4178, 0.5278]],\n",
            "\n",
            "        [[0.8642, 0.7616, 0.0406],\n",
            "         [0.1864, 0.1088, 0.5755],\n",
            "         [0.6925, 0.6071, 0.6993],\n",
            "         ...,\n",
            "         [0.0192, 0.4841, 0.1221],\n",
            "         [0.4892, 0.4463, 0.3491],\n",
            "         [0.4247, 0.9103, 0.6918]],\n",
            "\n",
            "        [[0.1622, 0.8785, 0.1020],\n",
            "         [0.8696, 0.2062, 0.2962],\n",
            "         [0.2343, 0.7535, 0.0211],\n",
            "         ...,\n",
            "         [0.3757, 0.2316, 0.9493],\n",
            "         [0.2751, 0.3816, 0.5613],\n",
            "         [0.7411, 0.2636, 0.2588]],\n",
            "\n",
            "        ...,\n",
            "\n",
            "        [[0.9148, 0.5333, 0.2292],\n",
            "         [0.8363, 0.2439, 0.9148],\n",
            "         [0.1019, 0.6728, 0.2030],\n",
            "         ...,\n",
            "         [0.3838, 0.8605, 0.7658],\n",
            "         [0.9580, 0.8427, 0.4478],\n",
            "         [0.8827, 0.5180, 0.2561]],\n",
            "\n",
            "        [[0.7455, 0.9106, 0.4406],\n",
            "         [0.7405, 0.0289, 0.4540],\n",
            "         [0.1776, 0.7844, 0.7038],\n",
            "         ...,\n",
            "         [0.1121, 0.4354, 0.7191],\n",
            "         [0.8923, 0.4205, 0.6728],\n",
            "         [0.3263, 0.0939, 0.5008]],\n",
            "\n",
            "        [[0.4968, 0.2704, 0.0671],\n",
            "         [0.0256, 0.5810, 0.6859],\n",
            "         [0.5128, 0.3195, 0.7965],\n",
            "         ...,\n",
            "         [0.1896, 0.4407, 0.7651],\n",
            "         [0.1101, 0.7780, 0.2304],\n",
            "         [0.6143, 0.8282, 0.6774]]])\n",
            "3\n",
            "torch.Size([224, 224, 3])\n"
          ]
        }
      ]
    },
    {
      "cell_type": "markdown",
      "source": [
        "### Zeros and Ones tensors.\n",
        "\n",
        "We use them to create some forms of masks."
      ],
      "metadata": {
        "id": "fIfzBFsr5hi-"
      }
    },
    {
      "cell_type": "code",
      "source": [
        "# create a tensor of all zeros\n",
        "zeros = torch.zeros(size=(3,4))\n",
        "print(zeros, zeros.dtype)\n",
        "\n",
        "# create a tensor of all ones\n",
        "ones = torch.ones(size=(2, 3, 4))\n",
        "print(ones, ones.dtype)"
      ],
      "metadata": {
        "colab": {
          "base_uri": "https://localhost:8080/"
        },
        "id": "EZExooIl2Z5m",
        "outputId": "e90336d2-4d27-475c-f251-6619c262b5c6"
      },
      "execution_count": null,
      "outputs": [
        {
          "output_type": "stream",
          "name": "stdout",
          "text": [
            "tensor([[0., 0., 0., 0.],\n",
            "        [0., 0., 0., 0.],\n",
            "        [0., 0., 0., 0.]]) torch.float32\n",
            "tensor([[[1., 1., 1., 1.],\n",
            "         [1., 1., 1., 1.],\n",
            "         [1., 1., 1., 1.]],\n",
            "\n",
            "        [[1., 1., 1., 1.],\n",
            "         [1., 1., 1., 1.],\n",
            "         [1., 1., 1., 1.]]]) torch.float32\n"
          ]
        }
      ]
    },
    {
      "cell_type": "markdown",
      "source": [
        "### Create a range of tensors and tensors-like."
      ],
      "metadata": {
        "id": "CAVXN1Zo6jJ8"
      }
    },
    {
      "cell_type": "code",
      "source": [
        "torch.range(0, 5)"
      ],
      "metadata": {
        "colab": {
          "base_uri": "https://localhost:8080/"
        },
        "id": "Lm4r0ecb2Z2c",
        "outputId": "e9f925c0-605b-4a5a-8d0e-b49ed0117da3"
      },
      "execution_count": null,
      "outputs": [
        {
          "output_type": "stream",
          "name": "stderr",
          "text": [
            "<ipython-input-51-6a9572165e00>:1: UserWarning: torch.range is deprecated and will be removed in a future release because its behavior is inconsistent with Python's range builtin. Instead, use torch.arange, which produces values in [start, end).\n",
            "  torch.range(0, 5)\n"
          ]
        },
        {
          "output_type": "execute_result",
          "data": {
            "text/plain": [
              "tensor([0., 1., 2., 3., 4., 5.])"
            ]
          },
          "metadata": {},
          "execution_count": 51
        }
      ]
    },
    {
      "cell_type": "code",
      "source": [
        "# instead of torch.range, we use torch.arange after we got the above message\n",
        "one_to_five = torch.arange(1, 5) \n",
        "one_to_five"
      ],
      "metadata": {
        "colab": {
          "base_uri": "https://localhost:8080/"
        },
        "id": "VMxkb_382Zzg",
        "outputId": "e35e1113-fb33-4a76-934d-0952ee01e187"
      },
      "execution_count": null,
      "outputs": [
        {
          "output_type": "execute_result",
          "data": {
            "text/plain": [
              "tensor([1, 2, 3, 4])"
            ]
          },
          "metadata": {},
          "execution_count": 56
        }
      ]
    },
    {
      "cell_type": "code",
      "source": [
        "# we can also define the step\n",
        "one_to_thousand = torch.arange(start=0, end=1000, step=100)\n",
        "one_to_thousand"
      ],
      "metadata": {
        "colab": {
          "base_uri": "https://localhost:8080/"
        },
        "id": "oBCkS1FI2ZwM",
        "outputId": "ae61d1c0-318d-43a4-c920-7ba5d67a1c72"
      },
      "execution_count": null,
      "outputs": [
        {
          "output_type": "execute_result",
          "data": {
            "text/plain": [
              "tensor([  0, 100, 200, 300, 400, 500, 600, 700, 800, 900])"
            ]
          },
          "metadata": {},
          "execution_count": 57
        }
      ]
    },
    {
      "cell_type": "code",
      "source": [
        "# creating tensors like: when we want to create tensors with the same shape like another tensor's shape\n",
        "five_zeros = torch.zeros_like(one_to_five)\n",
        "five_zeros"
      ],
      "metadata": {
        "colab": {
          "base_uri": "https://localhost:8080/"
        },
        "id": "sT-dqhoj2ZtP",
        "outputId": "45bd335f-3df7-433b-9be9-13fc496e5f53"
      },
      "execution_count": null,
      "outputs": [
        {
          "output_type": "execute_result",
          "data": {
            "text/plain": [
              "tensor([0, 0, 0, 0])"
            ]
          },
          "metadata": {},
          "execution_count": 58
        }
      ]
    },
    {
      "cell_type": "code",
      "source": [
        "one_zeros = torch.ones_like(one_to_five)\n",
        "one_zeros"
      ],
      "metadata": {
        "colab": {
          "base_uri": "https://localhost:8080/"
        },
        "id": "8v-Hccvk2Zp8",
        "outputId": "96ca3954-190b-4ed0-b63a-aaebd0eb77b7"
      },
      "execution_count": null,
      "outputs": [
        {
          "output_type": "execute_result",
          "data": {
            "text/plain": [
              "tensor([1, 1, 1, 1])"
            ]
          },
          "metadata": {},
          "execution_count": 59
        }
      ]
    },
    {
      "cell_type": "markdown",
      "source": [
        "### Tensor datatypes."
      ],
      "metadata": {
        "id": "9qNkrmb083mj"
      }
    },
    {
      "cell_type": "code",
      "source": [
        "# float 32 tensor: the default datatype of tensors\n",
        "float_32_tensor = torch.tensor([3.0, 6.0, 9.0], dtype=None)\n",
        "print(float_32_tensor)\n",
        "print(float_32_tensor.dtype)"
      ],
      "metadata": {
        "colab": {
          "base_uri": "https://localhost:8080/"
        },
        "id": "OGuHRVZ72beL",
        "outputId": "487224a3-8295-45ce-f016-ce0273dd16f3"
      },
      "execution_count": null,
      "outputs": [
        {
          "output_type": "stream",
          "name": "stdout",
          "text": [
            "tensor([3., 6., 9.])\n",
            "torch.float32\n"
          ]
        }
      ]
    },
    {
      "cell_type": "code",
      "source": [
        "float_16_tensor = torch.tensor([3.0, 6.0, 9.0], dtype=torch.float16)\n",
        "print(float_16_tensor)\n",
        "print(float_16_tensor.dtype)"
      ],
      "metadata": {
        "colab": {
          "base_uri": "https://localhost:8080/"
        },
        "id": "IcEEa3202bay",
        "outputId": "9f8bf0d5-04f1-4729-98f6-8b74eaff57ac"
      },
      "execution_count": null,
      "outputs": [
        {
          "output_type": "stream",
          "name": "stdout",
          "text": [
            "tensor([3., 6., 9.], dtype=torch.float16)\n",
            "torch.float16\n"
          ]
        }
      ]
    },
    {
      "cell_type": "markdown",
      "source": [
        "Why to use datatype float 16 instead of default float 36?\n",
        "\n",
        "Because we can sacrifice/reduce the preciasion('detail') of the input in order to become faster in computing."
      ],
      "metadata": {
        "id": "15MxyirP_NgV"
      }
    },
    {
      "cell_type": "markdown",
      "source": [
        "3 big errors while we working with pytorch and deep learning: \n",
        "\n",
        "1) tensors have not the right datatype, \n",
        "\n",
        "2) tensors have not the right shape and \n",
        "\n",
        "3) tensors are not on the right device."
      ],
      "metadata": {
        "id": "kkFv_fZUAEfb"
      }
    },
    {
      "cell_type": "code",
      "source": [
        "# 3 of the most important parameters when we create tensors: dtype, device and requires_grad\n",
        "float_32_tensor = torch.tensor([3.0, 6.0, 9.0], dtype=None, # what datatype is the tensor\n",
        "                                                device=None,  # what device is your tensor on. default is cpu. \n",
        "                                                # device='cuda',  # enable gpu. operations between tensors must run on the same device\n",
        "                                                requires_grad=False)  # whether or not to track gradients\n",
        "print(float_32_tensor)\n",
        "print(float_32_tensor.dtype)"
      ],
      "metadata": {
        "colab": {
          "base_uri": "https://localhost:8080/"
        },
        "id": "82htC9dW2bWy",
        "outputId": "02b98e18-c15c-4a08-eb4e-f36aef2e8fbc"
      },
      "execution_count": null,
      "outputs": [
        {
          "output_type": "stream",
          "name": "stdout",
          "text": [
            "tensor([3., 6., 9.])\n",
            "torch.float32\n"
          ]
        }
      ]
    },
    {
      "cell_type": "code",
      "source": [
        "# create a tensor with a different data type\n",
        "float_16_tensor_2 = float_32_tensor.type(torch.half)\n",
        "float_16_tensor_2"
      ],
      "metadata": {
        "colab": {
          "base_uri": "https://localhost:8080/"
        },
        "id": "iD0k6CDp6beI",
        "outputId": "869e4f47-530f-4266-d70c-22a30283d892"
      },
      "execution_count": null,
      "outputs": [
        {
          "output_type": "execute_result",
          "data": {
            "text/plain": [
              "tensor([3., 6., 9.], dtype=torch.float16)"
            ]
          },
          "metadata": {},
          "execution_count": 64
        }
      ]
    },
    {
      "cell_type": "code",
      "source": [
        "# let's multiple tensors of different data type\n",
        "c = float_16_tensor_2 * float_32_tensor\n",
        "print(c)\n",
        "\n",
        "# the datatype of the result of multiplication of tensors of different data types\n",
        "print(c.dtype)"
      ],
      "metadata": {
        "colab": {
          "base_uri": "https://localhost:8080/"
        },
        "id": "qtQ3st2V6baY",
        "outputId": "e320ed8a-c7e9-4f7f-c75e-2229dc7cc0c4"
      },
      "execution_count": null,
      "outputs": [
        {
          "output_type": "stream",
          "name": "stdout",
          "text": [
            "tensor([ 9., 36., 81.])\n",
            "torch.float32\n"
          ]
        }
      ]
    },
    {
      "cell_type": "markdown",
      "source": [
        "### Getting information from tensors."
      ],
      "metadata": {
        "id": "attHerTHbNB7"
      }
    },
    {
      "cell_type": "markdown",
      "source": [
        "Data type, shape and the device on which is running a tensor are the most important attributes of a tensor."
      ],
      "metadata": {
        "id": "Q4Qy64QneF2a"
      }
    },
    {
      "cell_type": "markdown",
      "source": [
        "But, we said that we can't do operations with tensors of different data types! "
      ],
      "metadata": {
        "id": "dqs4nb02Znc3"
      }
    },
    {
      "cell_type": "code",
      "source": [
        "# let's try multiple tensors with int, float data types\n",
        "int_32_tensor = torch.tensor([3, 6, 9], dtype=torch.int32)  # replace int32 with: int64, long\n",
        "print(int_32_tensor)\n",
        "\n",
        "d = float_32_tensor * int_32_tensor\n",
        "print(d, d.dtype)"
      ],
      "metadata": {
        "id": "nbrcNInB-EFc",
        "colab": {
          "base_uri": "https://localhost:8080/"
        },
        "outputId": "3cf6059d-1961-4e6c-fe4b-1987c94bf6d9"
      },
      "execution_count": null,
      "outputs": [
        {
          "output_type": "stream",
          "name": "stdout",
          "text": [
            "tensor([3, 6, 9], dtype=torch.int32)\n",
            "tensor([ 9., 36., 81.]) torch.float32\n"
          ]
        }
      ]
    },
    {
      "cell_type": "code",
      "source": [
        "# create a tensor\n",
        "some_tensor = torch.rand((3, 4), dtype=torch.float16) # replace float16 with int16 !!\n",
        "\n",
        "# find out details about it - tensor attributes!\n",
        "print(some_tensor)\n",
        "print(f\"Shape of tensor: {some_tensor.shape}\")\n",
        "print(f\"Shape of tensor using the size funnction: {some_tensor.size()}\")\n",
        "print(f\"Datatype of tensor: {some_tensor.dtype}\")\n",
        "print(f\"Device tensor is stored on: {some_tensor.device}\") # will default to CPU"
      ],
      "metadata": {
        "id": "fc52LrMG-D7e",
        "colab": {
          "base_uri": "https://localhost:8080/"
        },
        "outputId": "7fda4844-4571-4c40-e475-565275333dfe"
      },
      "execution_count": null,
      "outputs": [
        {
          "output_type": "stream",
          "name": "stdout",
          "text": [
            "tensor([[0.6226, 0.3965, 0.4126, 0.3257],\n",
            "        [0.8613, 0.4858, 0.1504, 0.8657],\n",
            "        [0.0386, 0.0532, 0.8345, 0.9546]], dtype=torch.float16)\n",
            "Shape of tensor: torch.Size([3, 4])\n",
            "Shape of tensor using the size funnction: torch.Size([3, 4])\n",
            "Datatype of tensor: torch.float16\n",
            "Device tensor is stored on: cpu\n"
          ]
        }
      ]
    },
    {
      "cell_type": "markdown",
      "source": [
        "### Manipulating Tensors."
      ],
      "metadata": {
        "id": "fpwFo4eAeebK"
      }
    },
    {
      "cell_type": "markdown",
      "source": [
        "Tensor operations: addition, subtraction, element-wise multiplication, division and matrix multiplication."
      ],
      "metadata": {
        "id": "z5ri0-sPe9iK"
      }
    },
    {
      "cell_type": "code",
      "source": [
        " # create a tensor\n",
        " tensor = torch.tensor([1, 2 , 3])\n",
        "\n",
        " # add a scalar to a tensor\n",
        " print(tensor + 10)\n",
        "\n",
        " # multiple a scalar to a tensor\n",
        " print(tensor * 10)\n",
        "\n",
        " # subtract a scalar from a tensor\n",
        " print(tensor - 10)"
      ],
      "metadata": {
        "id": "hF4tEu8V-D4d",
        "colab": {
          "base_uri": "https://localhost:8080/"
        },
        "outputId": "da022a22-9b90-489e-986f-00d0ffe8cf90"
      },
      "execution_count": null,
      "outputs": [
        {
          "output_type": "stream",
          "name": "stdout",
          "text": [
            "tensor([11, 12, 13])\n",
            "tensor([10, 20, 30])\n",
            "tensor([-9, -8, -7])\n"
          ]
        }
      ]
    },
    {
      "cell_type": "code",
      "source": [
        "# build-in functions \n",
        "\n",
        "# multiplication\n",
        "print(torch.mul(tensor, 10))\n",
        "\n",
        "# addition\n",
        "print(torch.add(tensor, 10))\n",
        "\n",
        "# subtraction\n",
        "print(torch.sub(tensor, 10))"
      ],
      "metadata": {
        "id": "VTCc7qAgCsq9",
        "colab": {
          "base_uri": "https://localhost:8080/"
        },
        "outputId": "659445ce-2192-424f-ec9f-f6d86f05d74b"
      },
      "execution_count": null,
      "outputs": [
        {
          "output_type": "stream",
          "name": "stdout",
          "text": [
            "tensor([10, 20, 30])\n",
            "tensor([11, 12, 13])\n",
            "tensor([-9, -8, -7])\n"
          ]
        }
      ]
    },
    {
      "cell_type": "code",
      "source": [
        "# element wise multiplication 1st way\n",
        "print(tensor, \"*\", tensor, \"equals: \", tensor * tensor )\n",
        "\n",
        "# element wise multiplication 2nd way\n",
        "print(tensor, \"*\", tensor, \"equals: \", torch.mul(tensor, tensor) )"
      ],
      "metadata": {
        "id": "2cQsaZaiCsnt",
        "colab": {
          "base_uri": "https://localhost:8080/"
        },
        "outputId": "21ff20d5-166d-46d3-e0be-f9e3aaae1037"
      },
      "execution_count": null,
      "outputs": [
        {
          "output_type": "stream",
          "name": "stdout",
          "text": [
            "tensor([1, 2, 3]) * tensor([1, 2, 3]) equals:  tensor([1, 4, 9])\n",
            "tensor([1, 2, 3]) * tensor([1, 2, 3]) equals:  tensor([1, 4, 9])\n"
          ]
        }
      ]
    },
    {
      "cell_type": "code",
      "source": [
        "# matrix multiplication using a torch method\n",
        "%%time\n",
        "print(torch.matmul(tensor, tensor))"
      ],
      "metadata": {
        "id": "TfvuFgcdCskt",
        "colab": {
          "base_uri": "https://localhost:8080/"
        },
        "outputId": "73472edc-282c-4995-dd9f-1f9ea3275b31"
      },
      "execution_count": null,
      "outputs": [
        {
          "output_type": "stream",
          "name": "stdout",
          "text": [
            "tensor(14)\n",
            "CPU times: user 2.88 ms, sys: 0 ns, total: 2.88 ms\n",
            "Wall time: 2.78 ms\n"
          ]
        }
      ]
    },
    {
      "cell_type": "code",
      "source": [
        "# matrix multiplication using a for-loop and compare computing time with the above  \n",
        "%%time\n",
        "value = 0\n",
        "for i in range(len(tensor)):\n",
        "  value += tensor[i] * tensor[i]  # \"tensor is not callable\" as an error if you put () instead of [] \n",
        "print(value)"
      ],
      "metadata": {
        "id": "i_g2jA-oCsh1",
        "colab": {
          "base_uri": "https://localhost:8080/"
        },
        "outputId": "3d3e1875-e644-4197-f2e2-c571876732f3"
      },
      "execution_count": null,
      "outputs": [
        {
          "output_type": "stream",
          "name": "stdout",
          "text": [
            "tensor(14)\n",
            "CPU times: user 3.09 ms, sys: 4 µs, total: 3.09 ms\n",
            "Wall time: 3.11 ms\n"
          ]
        }
      ]
    },
    {
      "cell_type": "code",
      "source": [
        "# matmul is also equivalent with @\n",
        "print(tensor @ tensor )"
      ],
      "metadata": {
        "colab": {
          "base_uri": "https://localhost:8080/"
        },
        "id": "BaZq7oVZmSE6",
        "outputId": "a043c54c-45c9-4386-84cf-94c26816403b"
      },
      "execution_count": null,
      "outputs": [
        {
          "output_type": "stream",
          "name": "stdout",
          "text": [
            "tensor(14)\n"
          ]
        }
      ]
    },
    {
      "cell_type": "markdown",
      "source": [
        "Matrix multiplication rules: \n",
        "\n",
        "1) the inner dimensions must match, eg (3,2) @ (2,3).\n",
        "\n",
        "2) the resulting matrix has the shape of the outer dimensions, eg for a (3,2) @ (2,3), the resulting shape will be (3,3)."
      ],
      "metadata": {
        "id": "7WdsxvSmmv6W"
      }
    },
    {
      "cell_type": "code",
      "source": [
        "# a right matrix multiplication\n",
        "c = torch.matmul(torch.rand(4,3) ,torch.rand(3,4) )\n",
        "print(c)\n",
        "print(c.shape)"
      ],
      "metadata": {
        "colab": {
          "base_uri": "https://localhost:8080/"
        },
        "id": "1mkh4ykHcyBZ",
        "outputId": "be6635ce-663e-4cc7-ad3f-03c44591baf9"
      },
      "execution_count": null,
      "outputs": [
        {
          "output_type": "stream",
          "name": "stdout",
          "text": [
            "tensor([[0.5924, 0.3160, 0.7056, 0.4596],\n",
            "        [1.0213, 0.5807, 0.3533, 0.7266],\n",
            "        [0.9731, 0.6465, 0.9755, 0.6812],\n",
            "        [0.9735, 0.7013, 0.9302, 0.6517]])\n",
            "torch.Size([4, 4])\n"
          ]
        }
      ]
    },
    {
      "cell_type": "code",
      "source": [
        "# a right matrix multiplication2\n",
        "c = torch.matmul(torch.rand(4,10000) ,torch.rand(10000,4) )\n",
        "print(c)\n",
        "print(c.shape)"
      ],
      "metadata": {
        "colab": {
          "base_uri": "https://localhost:8080/"
        },
        "id": "IB8HvtQScx-g",
        "outputId": "98ece7e3-02d8-43a0-93ac-b44bb27c40dd"
      },
      "execution_count": null,
      "outputs": [
        {
          "output_type": "stream",
          "name": "stdout",
          "text": [
            "tensor([[2512.8240, 2529.8667, 2486.0686, 2552.2571],\n",
            "        [2490.3604, 2501.7554, 2452.2800, 2499.5657],\n",
            "        [2515.2690, 2530.7410, 2478.6091, 2513.1550],\n",
            "        [2510.8469, 2527.5989, 2477.4954, 2528.8931]])\n",
            "torch.Size([4, 4])\n"
          ]
        }
      ]
    },
    {
      "cell_type": "code",
      "source": [
        "# Shapes need to be in the right way when matrix multiplication\n",
        "tensor_A = torch.tensor([[1, 2],\n",
        "                         [3, 4],\n",
        "                         [5, 6]], dtype=torch.float32)\n",
        "\n",
        "tensor_B = torch.tensor([[7, 10],\n",
        "                         [8, 11], \n",
        "                         [9, 12]], dtype=torch.float32)\n",
        "\n",
        "torch.matmul(tensor_A, tensor_B) # (this will error because we have a multiplication between two (3,2) matrices)"
      ],
      "metadata": {
        "colab": {
          "base_uri": "https://localhost:8080/"
        },
        "id": "E8ka14NVcyFA",
        "outputId": "aa2968a0-910b-46e1-b97e-f2c551570117"
      },
      "execution_count": null,
      "outputs": [
        {
          "output_type": "error",
          "ename": "RuntimeError",
          "evalue": "ignored",
          "traceback": [
            "\u001b[0;31m---------------------------------------------------------------------------\u001b[0m",
            "\u001b[0;31mRuntimeError\u001b[0m                              Traceback (most recent call last)",
            "\u001b[0;32m<ipython-input-38-aceec990e652>\u001b[0m in \u001b[0;36m<module>\u001b[0;34m\u001b[0m\n\u001b[1;32m      8\u001b[0m                          [9, 12]], dtype=torch.float32)\n\u001b[1;32m      9\u001b[0m \u001b[0;34m\u001b[0m\u001b[0m\n\u001b[0;32m---> 10\u001b[0;31m \u001b[0mtorch\u001b[0m\u001b[0;34m.\u001b[0m\u001b[0mmatmul\u001b[0m\u001b[0;34m(\u001b[0m\u001b[0mtensor_A\u001b[0m\u001b[0;34m,\u001b[0m \u001b[0mtensor_B\u001b[0m\u001b[0;34m)\u001b[0m \u001b[0;31m# (this will error)\u001b[0m\u001b[0;34m\u001b[0m\u001b[0;34m\u001b[0m\u001b[0m\n\u001b[0m",
            "\u001b[0;31mRuntimeError\u001b[0m: mat1 and mat2 shapes cannot be multiplied (3x2 and 3x2)"
          ]
        }
      ]
    },
    {
      "cell_type": "markdown",
      "source": [
        "To fix our tensor shape issues, we can manipulate the shape of one of our tensors using a transpose. A transpose switches the axes or dimensions of a given tensor."
      ],
      "metadata": {
        "id": "1hxziN5MrXMv"
      }
    },
    {
      "cell_type": "code",
      "source": [
        "print(tensor_B)\n",
        "print(tensor_B.shape)\n",
        "\n",
        "# transpose of B tensor\n",
        "print(tensor_B.T)\n",
        "print(tensor_B.T.shape)"
      ],
      "metadata": {
        "colab": {
          "base_uri": "https://localhost:8080/"
        },
        "id": "f_230IGvomFW",
        "outputId": "a92ea948-0b86-4191-fa68-04ad49fa47d8"
      },
      "execution_count": null,
      "outputs": [
        {
          "output_type": "stream",
          "name": "stdout",
          "text": [
            "tensor([[ 7., 10.],\n",
            "        [ 8., 11.],\n",
            "        [ 9., 12.]])\n",
            "torch.Size([3, 2])\n",
            "tensor([[ 7.,  8.,  9.],\n",
            "        [10., 11., 12.]])\n",
            "torch.Size([2, 3])\n"
          ]
        }
      ]
    },
    {
      "cell_type": "code",
      "source": [
        "# The operation works when tensor_B is transposed\n",
        "print(f\"Original shapes: tensor_A = {tensor_A.shape}, tensor_B = {tensor_B.shape}\\n\")\n",
        "print(f\"New shapes: tensor_A = {tensor_A.shape} (same as above), tensor_B.T = {tensor_B.T.shape}\\n\")\n",
        "print(f\"Multiplying: {tensor_A.shape} * {tensor_B.T.shape} <- inner dimensions match\\n\")\n",
        "print(\"Output:\\n\")\n",
        "# torch.mm is a shortcut for matmul\n",
        "output = torch.mm(tensor_A, tensor_B.T)\n",
        "print(output) \n",
        "print(f\"\\nOutput shape: {output.shape}\")"
      ],
      "metadata": {
        "colab": {
          "base_uri": "https://localhost:8080/"
        },
        "id": "OPJBADydol_G",
        "outputId": "c758aa16-88e8-435c-db58-f6d5613f69b5"
      },
      "execution_count": null,
      "outputs": [
        {
          "output_type": "stream",
          "name": "stdout",
          "text": [
            "Original shapes: tensor_A = torch.Size([3, 2]), tensor_B = torch.Size([3, 2])\n",
            "\n",
            "New shapes: tensor_A = torch.Size([3, 2]) (same as above), tensor_B.T = torch.Size([2, 3])\n",
            "\n",
            "Multiplying: torch.Size([3, 2]) * torch.Size([2, 3]) <- inner dimensions match\n",
            "\n",
            "Output:\n",
            "\n",
            "tensor([[ 27.,  30.,  33.],\n",
            "        [ 61.,  68.,  75.],\n",
            "        [ 95., 106., 117.]])\n",
            "\n",
            "Output shape: torch.Size([3, 3])\n"
          ]
        }
      ]
    },
    {
      "cell_type": "markdown",
      "source": [
        "### Finding the min, max, mean, sum, etc (tensor aggregation)."
      ],
      "metadata": {
        "id": "YpYfLtwBuaUX"
      }
    },
    {
      "cell_type": "code",
      "source": [
        "x = torch.arange(0, 100, 10)\n",
        "print(x)\n",
        "\n",
        "# find the min/max\n",
        "print(torch.min(x), x.min())\n",
        "print(torch.max(x), x.max().item())\n",
        "\n",
        "# find the mean\n",
        "print(torch.mean(x))"
      ],
      "metadata": {
        "colab": {
          "base_uri": "https://localhost:8080/"
        },
        "id": "YmUQXw6Kol7_",
        "outputId": "f24839e5-6627-47f6-8ad7-685d566d32fa"
      },
      "execution_count": null,
      "outputs": [
        {
          "output_type": "stream",
          "name": "stdout",
          "text": [
            "tensor([ 0, 10, 20, 30, 40, 50, 60, 70, 80, 90])\n",
            "tensor(0) tensor(0)\n",
            "tensor(90) 90\n"
          ]
        },
        {
          "output_type": "error",
          "ename": "RuntimeError",
          "evalue": "ignored",
          "traceback": [
            "\u001b[0;31m---------------------------------------------------------------------------\u001b[0m",
            "\u001b[0;31mRuntimeError\u001b[0m                              Traceback (most recent call last)",
            "\u001b[0;32m<ipython-input-58-067138471ca6>\u001b[0m in \u001b[0;36m<module>\u001b[0;34m\u001b[0m\n\u001b[1;32m      7\u001b[0m \u001b[0;34m\u001b[0m\u001b[0m\n\u001b[1;32m      8\u001b[0m \u001b[0;31m# find the mean\u001b[0m\u001b[0;34m\u001b[0m\u001b[0;34m\u001b[0m\u001b[0;34m\u001b[0m\u001b[0m\n\u001b[0;32m----> 9\u001b[0;31m \u001b[0mprint\u001b[0m\u001b[0;34m(\u001b[0m\u001b[0mtorch\u001b[0m\u001b[0;34m.\u001b[0m\u001b[0mmean\u001b[0m\u001b[0;34m(\u001b[0m\u001b[0mx\u001b[0m\u001b[0;34m)\u001b[0m\u001b[0;34m)\u001b[0m\u001b[0;34m\u001b[0m\u001b[0;34m\u001b[0m\u001b[0m\n\u001b[0m",
            "\u001b[0;31mRuntimeError\u001b[0m: mean(): could not infer output dtype. Input dtype must be either a floating point or complex dtype. Got: Long"
          ]
        }
      ]
    },
    {
      "cell_type": "code",
      "source": [
        "# let's see what is the data type of x\n",
        "print(x.dtype)\n",
        "\n",
        "# due to the error message, we need to change the data type to float32 as it is a requirement for using mean()\n",
        "print(torch.mean(x.type(torch.float32)))\n"
      ],
      "metadata": {
        "colab": {
          "base_uri": "https://localhost:8080/"
        },
        "id": "8kmWsf2Jsu_y",
        "outputId": "69f097a4-8f75-413a-8262-b8ca342d95f8"
      },
      "execution_count": null,
      "outputs": [
        {
          "output_type": "stream",
          "name": "stdout",
          "text": [
            "torch.int64\n",
            "tensor(45.)\n"
          ]
        }
      ]
    },
    {
      "cell_type": "code",
      "source": [
        "# find the sum\n",
        "torch.sum(x), x.sum()"
      ],
      "metadata": {
        "colab": {
          "base_uri": "https://localhost:8080/"
        },
        "id": "Q-7yn4hNsu8K",
        "outputId": "39eca875-ae7d-4837-96e7-a38a0f4c504d"
      },
      "execution_count": null,
      "outputs": [
        {
          "output_type": "execute_result",
          "data": {
            "text/plain": [
              "(tensor(450), tensor(450))"
            ]
          },
          "metadata": {},
          "execution_count": 65
        }
      ]
    },
    {
      "cell_type": "code",
      "source": [
        "# finding the positional min, the index of minimum value occured in a tensor\n",
        "print(x.argmin(), torch.argmin(x), x.argmin().item())\n",
        "\n",
        "# find the positional max\n",
        "print(x.argmax(), torch.argmax(x), x.argmax().item())"
      ],
      "metadata": {
        "colab": {
          "base_uri": "https://localhost:8080/"
        },
        "id": "fTpFVnj9su40",
        "outputId": "429e74fc-2e64-4903-93fd-cd08c0f2e2bc"
      },
      "execution_count": null,
      "outputs": [
        {
          "output_type": "stream",
          "name": "stdout",
          "text": [
            "tensor(0) tensor(0) 0\n",
            "tensor(9) tensor(9) 9\n"
          ]
        }
      ]
    },
    {
      "cell_type": "markdown",
      "source": [
        "### Reshaping, stacking, squeezing and unsqueezing tensors."
      ],
      "metadata": {
        "id": "LOkp9TWg4yk0"
      }
    },
    {
      "cell_type": "markdown",
      "source": [
        "Here, we will see some ways to change tensor's shape or dimensions."
      ],
      "metadata": {
        "id": "_811mwWk63l5"
      }
    },
    {
      "cell_type": "code",
      "source": [
        "# reshape an input tensor to a defined shape\n",
        "x = torch.arange(1., 10.)\n",
        "print(x, x.shape)\n",
        "\n",
        "# add an extra dimension(an extra [] pair to tensor)\n",
        "x_reshaped = x.reshape(1, 9)\n",
        "print(x_reshaped, x_reshaped.shape)\n",
        "\n",
        "x_reshaped2 = x.reshape(9, 1)\n",
        "print(x_reshaped2, x_reshaped2.shape)\n",
        "\n",
        "# this will produce an error because we want to add a dimension without any new elements\n",
        "# try changing the (1,9)\n",
        "x_reshaped3 = x.reshape(9, 2)\n",
        "print(x_reshaped3, x_reshaped3.shape)"
      ],
      "metadata": {
        "colab": {
          "base_uri": "https://localhost:8080/"
        },
        "id": "Yh5vnirVumRQ",
        "outputId": "a5e6b150-cbc0-4f39-9355-4c0858ad106a"
      },
      "execution_count": null,
      "outputs": [
        {
          "output_type": "stream",
          "name": "stdout",
          "text": [
            "tensor([1., 2., 3., 4., 5., 6., 7., 8., 9.]) torch.Size([9])\n",
            "tensor([[1., 2., 3., 4., 5., 6., 7., 8., 9.]]) torch.Size([1, 9])\n",
            "tensor([[1.],\n",
            "        [2.],\n",
            "        [3.],\n",
            "        [4.],\n",
            "        [5.],\n",
            "        [6.],\n",
            "        [7.],\n",
            "        [8.],\n",
            "        [9.]]) torch.Size([9, 1])\n"
          ]
        },
        {
          "output_type": "error",
          "ename": "RuntimeError",
          "evalue": "ignored",
          "traceback": [
            "\u001b[0;31m---------------------------------------------------------------------------\u001b[0m",
            "\u001b[0;31mRuntimeError\u001b[0m                              Traceback (most recent call last)",
            "\u001b[0;32m<ipython-input-73-dcd7ec980a3d>\u001b[0m in \u001b[0;36m<module>\u001b[0;34m\u001b[0m\n\u001b[1;32m     11\u001b[0m \u001b[0;34m\u001b[0m\u001b[0m\n\u001b[1;32m     12\u001b[0m \u001b[0;31m# this will produce an error\u001b[0m\u001b[0;34m\u001b[0m\u001b[0;34m\u001b[0m\u001b[0;34m\u001b[0m\u001b[0m\n\u001b[0;32m---> 13\u001b[0;31m \u001b[0mx_reshaped3\u001b[0m \u001b[0;34m=\u001b[0m \u001b[0mx\u001b[0m\u001b[0;34m.\u001b[0m\u001b[0mreshape\u001b[0m\u001b[0;34m(\u001b[0m\u001b[0;36m9\u001b[0m\u001b[0;34m,\u001b[0m \u001b[0;36m2\u001b[0m\u001b[0;34m)\u001b[0m\u001b[0;34m\u001b[0m\u001b[0;34m\u001b[0m\u001b[0m\n\u001b[0m\u001b[1;32m     14\u001b[0m \u001b[0mprint\u001b[0m\u001b[0;34m(\u001b[0m\u001b[0mx_reshaped3\u001b[0m\u001b[0;34m,\u001b[0m \u001b[0mx_reshaped3\u001b[0m\u001b[0;34m.\u001b[0m\u001b[0mshape\u001b[0m\u001b[0;34m)\u001b[0m\u001b[0;34m\u001b[0m\u001b[0;34m\u001b[0m\u001b[0m\n",
            "\u001b[0;31mRuntimeError\u001b[0m: shape '[9, 2]' is invalid for input of size 9"
          ]
        }
      ]
    },
    {
      "cell_type": "code",
      "source": [
        "# when reshaping, we can only change the dimensions for the specific number of elements we have\n",
        "x2 = torch.arange(1., 11.)  # now we have 10 elements\n",
        "print(x2, x2.shape)\n",
        "\n",
        "x2_reshaped = x2.reshape(5, 2)\n",
        "print(x2_reshaped, x2_reshaped.shape)\n",
        "\n",
        "x3 = torch.arange(1., 13.)  # now we have 12 elements\n",
        "print(x3, x3.shape)\n",
        "\n",
        "x3_reshaped = x3.reshape(4, 3)\n",
        "print(x3_reshaped, x3_reshaped.shape)"
      ],
      "metadata": {
        "colab": {
          "base_uri": "https://localhost:8080/"
        },
        "id": "n3aDaFKR8CE-",
        "outputId": "5c05e5ed-ef63-4fd4-b0c4-97447420180b"
      },
      "execution_count": null,
      "outputs": [
        {
          "output_type": "stream",
          "name": "stdout",
          "text": [
            "tensor([ 1.,  2.,  3.,  4.,  5.,  6.,  7.,  8.,  9., 10.]) torch.Size([10])\n",
            "tensor([[ 1.,  2.],\n",
            "        [ 3.,  4.],\n",
            "        [ 5.,  6.],\n",
            "        [ 7.,  8.],\n",
            "        [ 9., 10.]]) torch.Size([5, 2])\n",
            "tensor([ 1.,  2.,  3.,  4.,  5.,  6.,  7.,  8.,  9., 10., 11., 12.]) torch.Size([12])\n",
            "tensor([[ 1.,  2.,  3.],\n",
            "        [ 4.,  5.,  6.],\n",
            "        [ 7.,  8.,  9.],\n",
            "        [10., 11., 12.]]) torch.Size([4, 3])\n"
          ]
        }
      ]
    },
    {
      "cell_type": "code",
      "source": [
        "# view the input tensor of a certain shape but keep the same memory as the original tensor\n",
        "z = x.view(1, 9)  # z is a different view of x, bt has the same memory\n",
        "print(z, z.shape)\n",
        "\n",
        "# changing z changes x (because a view of a tensor shares the same memory as the original input)\n",
        "z[:, 0] = 5 # just change the first element of z\n",
        "print(z, x)\n",
        "\n",
        "# and if we change an element of x, the same happens to z, because z is a view of x !!\n",
        "x[1] = 10\n",
        "print(x, z)\n",
        "\n",
        "# but if we change an element of x_reshaped, the same happens!\n",
        "x_reshaped[:, 3] = 30\n",
        "print(x_reshaped, x)"
      ],
      "metadata": {
        "colab": {
          "base_uri": "https://localhost:8080/"
        },
        "id": "4JFeOuzhumN6",
        "outputId": "a066dbff-b8d2-4ea0-e71f-7b64af86e0c8"
      },
      "execution_count": null,
      "outputs": [
        {
          "output_type": "stream",
          "name": "stdout",
          "text": [
            "tensor([[ 5., 10.,  3.,  4.,  5.,  6.,  7.,  8.,  9.]]) torch.Size([1, 9])\n",
            "tensor([[ 5., 10.,  3.,  4.,  5.,  6.,  7.,  8.,  9.]]) tensor([ 5., 10.,  3.,  4.,  5.,  6.,  7.,  8.,  9.])\n",
            "tensor([ 5., 10.,  3.,  4.,  5.,  6.,  7.,  8.,  9.]) tensor([[ 5., 10.,  3.,  4.,  5.,  6.,  7.,  8.,  9.]])\n",
            "tensor([[ 5., 10.,  3., 30.,  5.,  6.,  7.,  8.,  9.]]) tensor([ 5., 10.,  3., 30.,  5.,  6.,  7.,  8.,  9.])\n"
          ]
        }
      ]
    },
    {
      "cell_type": "code",
      "source": [
        "# stacking: combine multiple tensors on top of each other(vstack) or side by side(hstack)\n",
        "x_stacked = torch.stack([x, x, x, x], dim=0)\n",
        "print(x_stacked)\n",
        "\n",
        "# if we change dim to 1\n",
        "x_stacked = torch.stack([x, x, x, x], dim=1)\n",
        "print(x_stacked)"
      ],
      "metadata": {
        "colab": {
          "base_uri": "https://localhost:8080/"
        },
        "id": "zi5oh7O7umK7",
        "outputId": "7536b5fc-d6b6-4534-c62c-4a6cf615d700"
      },
      "execution_count": null,
      "outputs": [
        {
          "output_type": "stream",
          "name": "stdout",
          "text": [
            "tensor([[ 5., 10.,  3., 30.,  5.,  6.,  7.,  8.,  9.],\n",
            "        [ 5., 10.,  3., 30.,  5.,  6.,  7.,  8.,  9.],\n",
            "        [ 5., 10.,  3., 30.,  5.,  6.,  7.,  8.,  9.],\n",
            "        [ 5., 10.,  3., 30.,  5.,  6.,  7.,  8.,  9.]])\n",
            "tensor([[ 5.,  5.,  5.,  5.],\n",
            "        [10., 10., 10., 10.],\n",
            "        [ 3.,  3.,  3.,  3.],\n",
            "        [30., 30., 30., 30.],\n",
            "        [ 5.,  5.,  5.,  5.],\n",
            "        [ 6.,  6.,  6.,  6.],\n",
            "        [ 7.,  7.,  7.,  7.],\n",
            "        [ 8.,  8.,  8.,  8.],\n",
            "        [ 9.,  9.,  9.,  9.]])\n"
          ]
        }
      ]
    },
    {
      "cell_type": "code",
      "source": [
        "# squeezing: remove all single dimensions from a target tensor\n",
        "print(f\"Previous tensor: {x_reshaped}\")\n",
        "print(f\"Previous tensor shape: {x_reshaped.shape}\")\n",
        "\n",
        "x_squeezed = x_reshaped.squeeze() # notice we have 1 [] pair less\n",
        "\n",
        "print(f\"\\nNew tensor: {x_squeezed}\") \n",
        "print(f\"New tensor's shape: {x_squeezed.shape}\")\n",
        "\n",
        "#torch.squeeze"
      ],
      "metadata": {
        "colab": {
          "base_uri": "https://localhost:8080/"
        },
        "id": "4K3MZxgL4weW",
        "outputId": "0a4ca432-084f-4c49-99cf-1958ee5d21b8"
      },
      "execution_count": null,
      "outputs": [
        {
          "output_type": "stream",
          "name": "stdout",
          "text": [
            "Previous tensor: tensor([[ 5., 10.,  3., 30.,  5.,  6.,  7.,  8.,  9.]])\n",
            "Previous tensor shape: torch.Size([1, 9])\n",
            "\n",
            "New tensor: tensor([ 5., 10.,  3., 30.,  5.,  6.,  7.,  8.,  9.])\n",
            "New tensor's shape: torch.Size([9])\n"
          ]
        }
      ]
    },
    {
      "cell_type": "code",
      "source": [
        "# unsqueezing: add a single dimension to a target tensor\n",
        "print(f\"Previous target: {x_squeezed}\")\n",
        "print(f\"Previous target's shape: {x_squeezed.shape}\")\n",
        "\n",
        "x_unsqueezed = x_squeezed.unsqueeze(dim=0) # notice we have a [] pair more\n",
        "\n",
        "print(f\"\\nNew tensor: {x_unsqueezed}\")\n",
        "print(f\"New tensor's shape: {x_unsqueezed.shape}\")\n",
        "\n",
        "# set dim=1 here\n",
        "x_unsqueezed2 = x_squeezed.unsqueeze(dim=1)\n",
        "print(f\"\\nNew tensor: {x_unsqueezed2}\")\n",
        "print(f\"New tensor's shape: {x_unsqueezed2.shape}\")"
      ],
      "metadata": {
        "colab": {
          "base_uri": "https://localhost:8080/"
        },
        "id": "G6ljisCa4wZe",
        "outputId": "9d528819-c911-479a-c676-f4d316db30a2"
      },
      "execution_count": null,
      "outputs": [
        {
          "output_type": "stream",
          "name": "stdout",
          "text": [
            "Previous target: tensor([ 5., 10.,  3., 30.,  5.,  6.,  7.,  8.,  9.])\n",
            "Previous target's shape: torch.Size([9])\n",
            "\n",
            "New tensor: tensor([[ 5., 10.,  3., 30.,  5.,  6.,  7.,  8.,  9.]])\n",
            "New tensor's shape: torch.Size([1, 9])\n",
            "\n",
            "New tensor: tensor([[ 5.],\n",
            "        [10.],\n",
            "        [ 3.],\n",
            "        [30.],\n",
            "        [ 5.],\n",
            "        [ 6.],\n",
            "        [ 7.],\n",
            "        [ 8.],\n",
            "        [ 9.]])\n",
            "New tensor's shape: torch.Size([9, 1])\n"
          ]
        }
      ]
    },
    {
      "cell_type": "code",
      "source": [
        "# permute: rearrange the dimensions of a target in a specified order(a different view of the target)\n",
        "x_original = torch.rand(size=(224, 224, 3))\n",
        "print(f\"Previous shape: {x_original.shape}\")\n",
        "\n",
        "# permute the original tensor\n",
        "x_permuted = x_original.permute(2, 1, 0)\n",
        "print(f\"New shape: {x_permuted.shape}\")"
      ],
      "metadata": {
        "colab": {
          "base_uri": "https://localhost:8080/"
        },
        "id": "rytf3m8B4wVz",
        "outputId": "fd57d8ac-3869-4874-c2be-8e396b5e9701"
      },
      "execution_count": null,
      "outputs": [
        {
          "output_type": "stream",
          "name": "stdout",
          "text": [
            "Previous shape: torch.Size([224, 224, 3])\n",
            "New shape: torch.Size([3, 224, 224])\n"
          ]
        }
      ]
    },
    {
      "cell_type": "code",
      "source": [
        "# let's change a value in x_original and see if this also changes in x_permuted\n",
        "x_original[0, 0, 0] = 21\n",
        "print(x_permuted[0, 0, 0])  \n",
        "# if we change the value of an element in x_original, this also changes in x_permuted, as x_permuted is a view of x_original=> has the same memory "
      ],
      "metadata": {
        "colab": {
          "base_uri": "https://localhost:8080/"
        },
        "id": "smUJFic95YQo",
        "outputId": "c6779a6d-6295-462c-fecb-01cd3f96eee2"
      },
      "execution_count": null,
      "outputs": [
        {
          "output_type": "stream",
          "name": "stdout",
          "text": [
            "tensor(21.)\n"
          ]
        }
      ]
    },
    {
      "cell_type": "markdown",
      "source": [
        "### Indexing: selecting data from tensors."
      ],
      "metadata": {
        "id": "pOWJdvrDGxyC"
      }
    },
    {
      "cell_type": "code",
      "source": [
        "# create a tensor\n",
        "x = torch.arange(1, 10).reshape(1, 3, 3)\n",
        "print(x, x.shape)\n",
        "\n",
        "# index on the first dimension\n",
        "print(x[0])\n",
        "\n",
        "# index on the middle dimension\n",
        "print(x[0][0])\n",
        "\n",
        "# index on the last dimension\n",
        "print(x[0][0][1])\n",
        "print(x[0][1][1]) # try 1 instead of 0 here\n",
        "\n",
        "# get number 9\n",
        "print(x[0][2][2].item())"
      ],
      "metadata": {
        "colab": {
          "base_uri": "https://localhost:8080/"
        },
        "id": "KBLbG1zp5YM2",
        "outputId": "6059925d-1001-4b58-d6b1-c4c090709c30"
      },
      "execution_count": null,
      "outputs": [
        {
          "output_type": "stream",
          "name": "stdout",
          "text": [
            "tensor([[[1, 2, 3],\n",
            "         [4, 5, 6],\n",
            "         [7, 8, 9]]]) torch.Size([1, 3, 3])\n",
            "tensor([[1, 2, 3],\n",
            "        [4, 5, 6],\n",
            "        [7, 8, 9]])\n",
            "tensor([1, 2, 3])\n",
            "tensor(2)\n",
            "tensor(5)\n",
            "9\n"
          ]
        }
      ]
    },
    {
      "cell_type": "code",
      "source": [
        "# use : to select all of a target dimension\n",
        "\n",
        "# get all values of the first row\n",
        "print(x[:, 0])\n",
        "\n",
        "# get all values of 0th and 1st dimensions but only index 1 of the 2nd dim\n",
        "print(x[:, :, 1])\n",
        "\n",
        "# get all values of the 0th dim but only the first index of the 1st and 2nd dims\n",
        "print(x[:, 1, 1]) # see the difference in output x[0][1][1]\n",
        "\n",
        "# get index 0 of 0th and 1st dims and all values of the 2nd dim\n",
        "print(x[0, 0, :]) \n",
        "\n",
        "# return 3,6,9\n",
        "print(x[0, :, 2])"
      ],
      "metadata": {
        "colab": {
          "base_uri": "https://localhost:8080/"
        },
        "id": "INgAn1BpG4eN",
        "outputId": "981e004b-e401-44fe-aa6f-eca6cb5a8d3a"
      },
      "execution_count": null,
      "outputs": [
        {
          "output_type": "stream",
          "name": "stdout",
          "text": [
            "tensor([[1, 2, 3]])\n",
            "tensor([[2, 5, 8]])\n",
            "tensor([5])\n",
            "tensor([1, 2, 3])\n",
            "tensor([3, 6, 9])\n"
          ]
        }
      ]
    },
    {
      "cell_type": "markdown",
      "source": [
        "### Pytorch tensors and Numpy."
      ],
      "metadata": {
        "id": "WC7_yVP-LojG"
      }
    },
    {
      "cell_type": "code",
      "source": [
        "# numpy array to tensor\n",
        "import numpy as np\n",
        "\n",
        "array = np.arange(1.0, 8.0)\n",
        "tensor = torch.from_numpy(array)\n",
        "array, tensor"
      ],
      "metadata": {
        "colab": {
          "base_uri": "https://localhost:8080/"
        },
        "id": "iFmhZcnfG4Yi",
        "outputId": "da2b4476-3d7b-442a-ac0b-bee3dedbc180"
      },
      "execution_count": null,
      "outputs": [
        {
          "output_type": "execute_result",
          "data": {
            "text/plain": [
              "(array([1., 2., 3., 4., 5., 6., 7.]),\n",
              " tensor([1., 2., 3., 4., 5., 6., 7.], dtype=torch.float64))"
            ]
          },
          "metadata": {},
          "execution_count": 125
        }
      ]
    },
    {
      "cell_type": "code",
      "source": [
        "# notice that the datatype is float64 here by default when using from_numpy\n",
        "tensor = torch.from_numpy(array).type(torch.float32)\n",
        "print(tensor.dtype)"
      ],
      "metadata": {
        "colab": {
          "base_uri": "https://localhost:8080/"
        },
        "id": "N_khIW11Lbkd",
        "outputId": "676abc26-1931-4c5c-dac4-b943d569aab4"
      },
      "execution_count": null,
      "outputs": [
        {
          "output_type": "stream",
          "name": "stdout",
          "text": [
            "torch.float32\n"
          ]
        }
      ]
    },
    {
      "cell_type": "code",
      "source": [
        "# if we change the value of the array, what happens to the tensor?\n",
        "array = array + 10\n",
        "array, tensor"
      ],
      "metadata": {
        "colab": {
          "base_uri": "https://localhost:8080/"
        },
        "id": "FyYokTOdLbgY",
        "outputId": "61b35cf7-8e30-496f-ac9c-b0bca71b3787"
      },
      "execution_count": null,
      "outputs": [
        {
          "output_type": "execute_result",
          "data": {
            "text/plain": [
              "(array([11., 12., 13., 14., 15., 16., 17.]),\n",
              " tensor([1., 2., 3., 4., 5., 6., 7.]))"
            ]
          },
          "metadata": {},
          "execution_count": 127
        }
      ]
    },
    {
      "cell_type": "code",
      "source": [
        "# tensor to numpy array\n",
        "tensor = torch.ones(7)\n",
        "numpy_tensor = tensor.numpy()\n",
        "tensor, numpy_tensor"
      ],
      "metadata": {
        "colab": {
          "base_uri": "https://localhost:8080/"
        },
        "id": "zIpkY_LdLs8W",
        "outputId": "ba76910d-b06c-450c-a0fc-ca65d5009dd0"
      },
      "execution_count": null,
      "outputs": [
        {
          "output_type": "execute_result",
          "data": {
            "text/plain": [
              "(tensor([1., 1., 1., 1., 1., 1., 1.]),\n",
              " array([1., 1., 1., 1., 1., 1., 1.], dtype=float32))"
            ]
          },
          "metadata": {},
          "execution_count": 130
        }
      ]
    },
    {
      "cell_type": "code",
      "source": [
        "# if we change the tensor, what happens to the array?\n",
        "tensor = tensor * 10\n",
        "tensor, numpy_tensor"
      ],
      "metadata": {
        "colab": {
          "base_uri": "https://localhost:8080/"
        },
        "id": "960Lmzz7N-SO",
        "outputId": "f417445f-6349-4429-ef44-cdd39db247ca"
      },
      "execution_count": null,
      "outputs": [
        {
          "output_type": "execute_result",
          "data": {
            "text/plain": [
              "(tensor([1000., 1000., 1000., 1000., 1000., 1000., 1000.]),\n",
              " array([1., 1., 1., 1., 1., 1., 1.], dtype=float32))"
            ]
          },
          "metadata": {},
          "execution_count": 133
        }
      ]
    },
    {
      "cell_type": "markdown",
      "source": [
        "### Reproducibility: trying to take the random out of random."
      ],
      "metadata": {
        "id": "cJjoEeWyQqNE"
      }
    },
    {
      "cell_type": "markdown",
      "source": [
        "To reduce the randomness in neural networks and Pytorch comes the concept of a random seed. What a random seed does is \"flavour\" the randomness."
      ],
      "metadata": {
        "id": "cJXO-x5bixy-"
      }
    },
    {
      "cell_type": "code",
      "source": [
        "import torch\n",
        "\n",
        "# create random tensors\n",
        "random_tensor_A = torch.rand(3, 4)\n",
        "random_tensor_B = torch.rand(3, 4)\n",
        "print(random_tensor_A)\n",
        "print(random_tensor_B)\n",
        "# compare the tensors\n",
        "print(random_tensor_A == random_tensor_B)"
      ],
      "metadata": {
        "id": "Ha6tzbX0N-NL",
        "colab": {
          "base_uri": "https://localhost:8080/"
        },
        "outputId": "8695eb32-a153-4ee7-bdd6-07559fa72af4"
      },
      "execution_count": 5,
      "outputs": [
        {
          "output_type": "stream",
          "name": "stdout",
          "text": [
            "tensor([[0.2802, 0.2360, 0.4059, 0.7437],\n",
            "        [0.8550, 0.9044, 0.3369, 0.4495],\n",
            "        [0.3740, 0.8168, 0.5070, 0.4200]])\n",
            "tensor([[0.3593, 0.0939, 0.5315, 0.4974],\n",
            "        [0.7778, 0.4926, 0.0943, 0.7226],\n",
            "        [0.2670, 0.8699, 0.9745, 0.4452]])\n",
            "tensor([[False, False, False, False],\n",
            "        [False, False, False, False],\n",
            "        [False, False, False, False]])\n"
          ]
        }
      ]
    },
    {
      "cell_type": "code",
      "source": [
        "# let's make some random but reproducible tensors\n",
        "\n",
        "# set random seed and see below how to use it\n",
        "RANDOM_SEED = 42  # different flavours of randomness\n",
        "\n",
        "torch.manual_seed(RANDOM_SEED)\n",
        "random_tensor_C = torch.rand(3, 4)\n",
        "\n",
        "# random seed makes the above random numbers reproducable\n",
        "torch.manual_seed(RANDOM_SEED)  \n",
        "random_tensor_D = torch.rand(3, 4)\n",
        "\n",
        "print(random_tensor_C)\n",
        "print(random_tensor_D)\n",
        "# compare the tensors\n",
        "print(random_tensor_C == random_tensor_D)"
      ],
      "metadata": {
        "id": "nxB7FS61PY7H",
        "colab": {
          "base_uri": "https://localhost:8080/"
        },
        "outputId": "8c9b608f-34dd-43a1-88b4-9ac27cdcdd8d"
      },
      "execution_count": 8,
      "outputs": [
        {
          "output_type": "stream",
          "name": "stdout",
          "text": [
            "tensor([[0.8823, 0.9150, 0.3829, 0.9593],\n",
            "        [0.3904, 0.6009, 0.2566, 0.7936],\n",
            "        [0.9408, 0.1332, 0.9346, 0.5936]])\n",
            "tensor([[0.8823, 0.9150, 0.3829, 0.9593],\n",
            "        [0.3904, 0.6009, 0.2566, 0.7936],\n",
            "        [0.9408, 0.1332, 0.9346, 0.5936]])\n",
            "tensor([[True, True, True, True],\n",
            "        [True, True, True, True],\n",
            "        [True, True, True, True]])\n"
          ]
        }
      ]
    },
    {
      "cell_type": "markdown",
      "source": [
        "### Running on GPUs."
      ],
      "metadata": {
        "id": "WuTzR7yRmmec"
      }
    },
    {
      "cell_type": "markdown",
      "source": [
        "GPUs = faster computation on numbers, thanks to cuda + NVIDIA hardware + Pytorch working behind the scenes."
      ],
      "metadata": {
        "id": "T4bs2iL6mqn5"
      }
    },
    {
      "cell_type": "markdown",
      "source": [
        "Getting a GPU:\n",
        "\n",
        "1. Use Google Colab.\n",
        "\n",
        "2. Use your own GPU.\n",
        "\n",
        "3. Use cloud computing(GCP, AWS, Azure, Alibaba)\n",
        "\n",
        "For 2, 3 we need to do some settings. More on Pytorch documentation."
      ],
      "metadata": {
        "id": "qukvt4pJnJgn"
      }
    },
    {
      "cell_type": "markdown",
      "source": [
        "The first way is the easiest, as all the connections between gpu and Pytorch are already set up for us."
      ],
      "metadata": {
        "id": "TctpSt4Po-id"
      }
    },
    {
      "cell_type": "code",
      "source": [
        "# set GPU as runtime\n",
        "!nvidia-smi"
      ],
      "metadata": {
        "id": "WJ31Ga8GPY3_",
        "colab": {
          "base_uri": "https://localhost:8080/"
        },
        "outputId": "f5239e7d-a5e3-4de1-be13-1d312aa8b3fa"
      },
      "execution_count": 1,
      "outputs": [
        {
          "output_type": "stream",
          "name": "stdout",
          "text": [
            "Tue Jan 10 12:20:47 2023       \n",
            "+-----------------------------------------------------------------------------+\n",
            "| NVIDIA-SMI 460.32.03    Driver Version: 460.32.03    CUDA Version: 11.2     |\n",
            "|-------------------------------+----------------------+----------------------+\n",
            "| GPU  Name        Persistence-M| Bus-Id        Disp.A | Volatile Uncorr. ECC |\n",
            "| Fan  Temp  Perf  Pwr:Usage/Cap|         Memory-Usage | GPU-Util  Compute M. |\n",
            "|                               |                      |               MIG M. |\n",
            "|===============================+======================+======================|\n",
            "|   0  Tesla T4            Off  | 00000000:00:04.0 Off |                    0 |\n",
            "| N/A   70C    P0    32W /  70W |      0MiB / 15109MiB |      0%      Default |\n",
            "|                               |                      |                  N/A |\n",
            "+-------------------------------+----------------------+----------------------+\n",
            "                                                                               \n",
            "+-----------------------------------------------------------------------------+\n",
            "| Processes:                                                                  |\n",
            "|  GPU   GI   CI        PID   Type   Process name                  GPU Memory |\n",
            "|        ID   ID                                                   Usage      |\n",
            "|=============================================================================|\n",
            "|  No running processes found                                                 |\n",
            "+-----------------------------------------------------------------------------+\n"
          ]
        }
      ]
    },
    {
      "cell_type": "code",
      "source": [
        "# check for gpu access with Pytorch\n",
        "import torch\n",
        "torch.cuda.is_available()"
      ],
      "metadata": {
        "id": "byPctsw4PY1A",
        "colab": {
          "base_uri": "https://localhost:8080/"
        },
        "outputId": "f1e66837-93fb-424f-a977-5b9049ae7fc1"
      },
      "execution_count": 1,
      "outputs": [
        {
          "output_type": "execute_result",
          "data": {
            "text/plain": [
              "True"
            ]
          },
          "metadata": {},
          "execution_count": 1
        }
      ]
    },
    {
      "cell_type": "markdown",
      "source": [
        "For Pytorch since it's capable of running compute on the GPU or CPU, it's best practice to setup agnostic code."
      ],
      "metadata": {
        "id": "0TwSYM6Mq2Fe"
      }
    },
    {
      "cell_type": "code",
      "source": [
        "# setup device agnostic code\n",
        "device = \"cuda\" if torch.cuda.is_available() else \"cpu\"\n",
        "device"
      ],
      "metadata": {
        "colab": {
          "base_uri": "https://localhost:8080/",
          "height": 35
        },
        "id": "qeGV3YMlpayT",
        "outputId": "b7998902-d51a-4889-c075-b2b7ec200ef1"
      },
      "execution_count": 2,
      "outputs": [
        {
          "output_type": "execute_result",
          "data": {
            "text/plain": [
              "'cuda'"
            ],
            "application/vnd.google.colaboratory.intrinsic+json": {
              "type": "string"
            }
          },
          "metadata": {},
          "execution_count": 2
        }
      ]
    },
    {
      "cell_type": "markdown",
      "source": [
        "If you have to run many models and also have many gpus, it is a good strategy to run one model on one gpu, the other model on the other gpu, ..."
      ],
      "metadata": {
        "id": "fxCHdNnaqSDl"
      }
    },
    {
      "cell_type": "code",
      "source": [
        "# count number of devices\n",
        "torch.cuda.device_count()"
      ],
      "metadata": {
        "colab": {
          "base_uri": "https://localhost:8080/"
        },
        "id": "7ZRMUWoBqA1b",
        "outputId": "ba805c89-2f25-495f-cf6c-893e3235aafa"
      },
      "execution_count": 5,
      "outputs": [
        {
          "output_type": "execute_result",
          "data": {
            "text/plain": [
              "1"
            ]
          },
          "metadata": {},
          "execution_count": 5
        }
      ]
    },
    {
      "cell_type": "markdown",
      "source": [
        "### Putting tensors and models on GPUs -> faster computations."
      ],
      "metadata": {
        "id": "LlMcI3_SrcQv"
      }
    },
    {
      "cell_type": "markdown",
      "source": [
        "We have set runtime as GPU."
      ],
      "metadata": {
        "id": "LP84F08Ds56N"
      }
    },
    {
      "cell_type": "code",
      "source": [
        "# create a tensor (default on CPU)\n",
        "import torch\n",
        "tensor = torch.tensor([1, 2, 3], device=\"cpu\")\n",
        "\n",
        "# tensor not on GPU\n",
        "print(tensor, tensor.device)\n",
        "\n",
        "tensor2 = torch.tensor([4, 5, 3])\n",
        "\n",
        "# tensor not on GPU\n",
        "print(tensor2, tensor2.device)"
      ],
      "metadata": {
        "colab": {
          "base_uri": "https://localhost:8080/"
        },
        "id": "zmmxXkLhqMsy",
        "outputId": "04a29d81-9ffc-49c4-f58b-f62591596513"
      },
      "execution_count": 3,
      "outputs": [
        {
          "output_type": "stream",
          "name": "stdout",
          "text": [
            "tensor([1, 2, 3]) cpu\n",
            "tensor([4, 5, 3]) cpu\n"
          ]
        }
      ]
    },
    {
      "cell_type": "code",
      "source": [
        "# move tensor to GPU if available\n",
        "# device enables gpu, if available. see above how is defined\n",
        "tensor_on_gpu = tensor.to(device)\n",
        "tensor_on_gpu"
      ],
      "metadata": {
        "colab": {
          "base_uri": "https://localhost:8080/"
        },
        "id": "SeA3SvWtrpTb",
        "outputId": "29fab84c-f1c4-485b-8bb6-cdba93b1e2d1"
      },
      "execution_count": 4,
      "outputs": [
        {
          "output_type": "execute_result",
          "data": {
            "text/plain": [
              "tensor([1, 2, 3], device='cuda:0')"
            ]
          },
          "metadata": {},
          "execution_count": 4
        }
      ]
    },
    {
      "cell_type": "markdown",
      "source": [
        "If a tensor is on GPU, can't transform it to numpy, as numpy doesn't work on GPUs."
      ],
      "metadata": {
        "id": "XWdk8UhUtpZH"
      }
    },
    {
      "cell_type": "markdown",
      "source": [
        "This is one of the 3 most important issues in Pytorch: device errors."
      ],
      "metadata": {
        "id": "qO4sLnFet_D0"
      }
    },
    {
      "cell_type": "code",
      "source": [
        "tensor_on_gpu.numpy()"
      ],
      "metadata": {
        "colab": {
          "base_uri": "https://localhost:8080/",
          "height": 184
        },
        "id": "iUi691Vlt1ZK",
        "outputId": "4187343e-6322-4885-b7ed-f70a7fc8b210"
      },
      "execution_count": 5,
      "outputs": [
        {
          "output_type": "error",
          "ename": "TypeError",
          "evalue": "ignored",
          "traceback": [
            "\u001b[0;31m---------------------------------------------------------------------------\u001b[0m",
            "\u001b[0;31mTypeError\u001b[0m                                 Traceback (most recent call last)",
            "\u001b[0;32m<ipython-input-5-e0c96c7436fd>\u001b[0m in \u001b[0;36m<module>\u001b[0;34m\u001b[0m\n\u001b[0;32m----> 1\u001b[0;31m \u001b[0mtensor_on_gpu\u001b[0m\u001b[0;34m.\u001b[0m\u001b[0mnumpy\u001b[0m\u001b[0;34m(\u001b[0m\u001b[0;34m)\u001b[0m\u001b[0;34m\u001b[0m\u001b[0;34m\u001b[0m\u001b[0m\n\u001b[0m",
            "\u001b[0;31mTypeError\u001b[0m: can't convert cuda:0 device type tensor to numpy. Use Tensor.cpu() to copy the tensor to host memory first."
          ]
        }
      ]
    },
    {
      "cell_type": "code",
      "source": [
        "# move tensor back to cpu \n",
        "tensor_back_on_cpu = tensor_on_gpu.cpu().numpy()\n",
        "tensor_back_on_cpu"
      ],
      "metadata": {
        "colab": {
          "base_uri": "https://localhost:8080/"
        },
        "id": "nprbu4TxsYay",
        "outputId": "d6dcc8a5-95ef-4040-cd1c-c3ab30ada4eb"
      },
      "execution_count": 7,
      "outputs": [
        {
          "output_type": "execute_result",
          "data": {
            "text/plain": [
              "array([1, 2, 3])"
            ]
          },
          "metadata": {},
          "execution_count": 7
        }
      ]
    },
    {
      "cell_type": "code",
      "source": [
        "# and, of course, tensor on gpu remains unchanged\n",
        "tensor_on_gpu"
      ],
      "metadata": {
        "colab": {
          "base_uri": "https://localhost:8080/"
        },
        "id": "_D5aEvpVsYVA",
        "outputId": "e63fd67f-9c63-462e-917b-609c6d568216"
      },
      "execution_count": 8,
      "outputs": [
        {
          "output_type": "execute_result",
          "data": {
            "text/plain": [
              "tensor([1, 2, 3], device='cuda:0')"
            ]
          },
          "metadata": {},
          "execution_count": 8
        }
      ]
    },
    {
      "cell_type": "markdown",
      "source": [
        "## Exercises."
      ],
      "metadata": {
        "id": "8o1fVsHbwB7A"
      }
    },
    {
      "cell_type": "markdown",
      "source": [
        "Solutions to these [exercises](https://github.com/mrdbourke/pytorch-deep-learning/blob/main/extras/exercises/00_pytorch_fundamentals_exercises.ipynb)."
      ],
      "metadata": {
        "id": "jthqN_0Iw_EU"
      }
    },
    {
      "cell_type": "markdown",
      "source": [
        "1. Create a random tensor with shape (7, 7)"
      ],
      "metadata": {
        "id": "uZJE53UvxKZg"
      }
    },
    {
      "cell_type": "code",
      "source": [
        "import torch\n",
        "random_tensor = torch.rand(7, 7)\n",
        "random_tensor, random_tensor.shape"
      ],
      "metadata": {
        "colab": {
          "base_uri": "https://localhost:8080/"
        },
        "id": "L-nEr2rfwEBZ",
        "outputId": "6b7b458d-74dd-4dac-e0d4-6dfadf3537e8"
      },
      "execution_count": 10,
      "outputs": [
        {
          "output_type": "execute_result",
          "data": {
            "text/plain": [
              "(tensor([[0.0251, 0.6630, 0.8773, 0.7993, 0.6948, 0.0811, 0.7473],\n",
              "         [0.6359, 0.7707, 0.8754, 0.4303, 0.2250, 0.5583, 0.4704],\n",
              "         [0.8060, 0.2025, 0.1594, 0.1986, 0.7511, 0.4720, 0.1603],\n",
              "         [0.2936, 0.8581, 0.9388, 0.9392, 0.2446, 0.5322, 0.8970],\n",
              "         [0.5316, 0.4789, 0.5509, 0.3647, 0.1375, 0.5066, 0.5260],\n",
              "         [0.6056, 0.0126, 0.2266, 0.3725, 0.9370, 0.6815, 0.8122],\n",
              "         [0.5350, 0.4653, 0.6274, 0.8224, 0.3070, 0.2177, 0.8336]]),\n",
              " torch.Size([7, 7]))"
            ]
          },
          "metadata": {},
          "execution_count": 10
        }
      ]
    },
    {
      "cell_type": "markdown",
      "source": [
        "2. Perform a matrix multiplication on the above tensor with another random tensor with shape (1, 7) (hint: you may have to transpose the second tensor)."
      ],
      "metadata": {
        "id": "TIY-kruzxc7W"
      }
    },
    {
      "cell_type": "code",
      "source": [
        "random_tensor2 = torch.rand(1, 7)\n",
        "random_tensor2, random_tensor2.shape"
      ],
      "metadata": {
        "colab": {
          "base_uri": "https://localhost:8080/"
        },
        "id": "XzWUU62WwEmk",
        "outputId": "28765dda-5439-4aef-c486-5c55bbe9648f"
      },
      "execution_count": 11,
      "outputs": [
        {
          "output_type": "execute_result",
          "data": {
            "text/plain": [
              "(tensor([[0.0263, 0.0517, 0.4308, 0.3235, 0.4139, 0.8976, 0.1298]]),\n",
              " torch.Size([1, 7]))"
            ]
          },
          "metadata": {},
          "execution_count": 11
        }
      ]
    },
    {
      "cell_type": "code",
      "source": [
        "tensor = torch.matmul(random_tensor, random_tensor2.T)\n",
        "tensor, tensor.shape"
      ],
      "metadata": {
        "colab": {
          "base_uri": "https://localhost:8080/"
        },
        "id": "jDLccVhkwEjd",
        "outputId": "3210f116-c5d3-4d26-914c-afffc86535b0"
      },
      "execution_count": 12,
      "outputs": [
        {
          "output_type": "execute_result",
          "data": {
            "text/plain": [
              "(tensor([[1.1288],\n",
              "         [1.2282],\n",
              "         [0.9199],\n",
              "         [1.4556],\n",
              "         [0.9739],\n",
              "         [1.3397],\n",
              "         [1.0051]]), torch.Size([7, 1]))"
            ]
          },
          "metadata": {},
          "execution_count": 12
        }
      ]
    },
    {
      "cell_type": "markdown",
      "source": [
        "3. Set the random seed to 0 and do 1 & 2 over again."
      ],
      "metadata": {
        "id": "nbazeEpYyS1V"
      }
    },
    {
      "cell_type": "code",
      "source": [
        "RANDOM_SEED = 0\n",
        "\n",
        "torch.manual_seed(RANDOM_SEED)\n",
        "random_tensor3 = torch.rand(7, 7)\n",
        "random_tensor4 = torch.rand(1, 7)\n",
        "\n",
        "tensor2 = torch.matmul(random_tensor3, random_tensor4.T)\n",
        "\n",
        "print(random_tensor3)\n",
        "print(random_tensor4)\n",
        "print(random_tensor3 == random_tensor4)\n",
        "\n",
        "print(tensor2)"
      ],
      "metadata": {
        "colab": {
          "base_uri": "https://localhost:8080/"
        },
        "id": "uR_UZEk0wEgE",
        "outputId": "c3927add-a413-469c-e53d-f0dd2be4774f"
      },
      "execution_count": 17,
      "outputs": [
        {
          "output_type": "stream",
          "name": "stdout",
          "text": [
            "tensor([[0.4963, 0.7682, 0.0885, 0.1320, 0.3074, 0.6341, 0.4901],\n",
            "        [0.8964, 0.4556, 0.6323, 0.3489, 0.4017, 0.0223, 0.1689],\n",
            "        [0.2939, 0.5185, 0.6977, 0.8000, 0.1610, 0.2823, 0.6816],\n",
            "        [0.9152, 0.3971, 0.8742, 0.4194, 0.5529, 0.9527, 0.0362],\n",
            "        [0.1852, 0.3734, 0.3051, 0.9320, 0.1759, 0.2698, 0.1507],\n",
            "        [0.0317, 0.2081, 0.9298, 0.7231, 0.7423, 0.5263, 0.2437],\n",
            "        [0.5846, 0.0332, 0.1387, 0.2422, 0.8155, 0.7932, 0.2783]])\n",
            "tensor([[0.4820, 0.8198, 0.9971, 0.6984, 0.5675, 0.8352, 0.2056]])\n",
            "tensor([[False, False, False, False, False, False, False],\n",
            "        [False, False, False, False, False, False, False],\n",
            "        [False, False, False, False, False, False, False],\n",
            "        [False, False, False, False, False, False, False],\n",
            "        [False, False, False, False, False, False, False],\n",
            "        [False, False, False, False, False, False, False],\n",
            "        [False, False, False, False, False, False, False]])\n",
            "tensor([[1.8542],\n",
            "        [1.9611],\n",
            "        [2.2884],\n",
            "        [3.0481],\n",
            "        [1.7067],\n",
            "        [2.5290],\n",
            "        [1.7989]])\n"
          ]
        }
      ]
    },
    {
      "cell_type": "markdown",
      "source": [
        "4. Speaking of random seeds, we saw how to set it with torch.manual_seed() but is there a GPU equivalent? (hint: you'll need to look into the documentation for torch.cuda for this one)"
      ],
      "metadata": {
        "id": "JeAdsyP3zfLO"
      }
    },
    {
      "cell_type": "markdown",
      "source": [
        "If there is, set the GPU random seed to 1234."
      ],
      "metadata": {
        "id": "JSIPxT5ez-NT"
      }
    },
    {
      "cell_type": "code",
      "source": [
        "# check for gpu access with Pytorch\n",
        "import torch\n",
        "torch.cuda.is_available()"
      ],
      "metadata": {
        "colab": {
          "base_uri": "https://localhost:8080/"
        },
        "id": "ZAjjRbGUyOE4",
        "outputId": "a072e6bb-7e63-4f44-ccdd-f946588c4468"
      },
      "execution_count": 18,
      "outputs": [
        {
          "output_type": "execute_result",
          "data": {
            "text/plain": [
              "True"
            ]
          },
          "metadata": {},
          "execution_count": 18
        }
      ]
    },
    {
      "cell_type": "code",
      "source": [
        "# Set random seed on the GPU\n",
        "torch.cuda.manual_seed(1234)"
      ],
      "metadata": {
        "id": "AX-hb5jczpSc"
      },
      "execution_count": 19,
      "outputs": []
    },
    {
      "cell_type": "markdown",
      "source": [
        "5. Create two random tensors of shape (2, 3) and send them both to the GPU (you'll need access to a GPU for this). Set torch.manual_seed(1234) when creating the tensors (this doesn't have to be the GPU random seed)."
      ],
      "metadata": {
        "id": "S8d737WF0D9e"
      }
    },
    {
      "cell_type": "code",
      "source": [
        "# Set random seed\n",
        "torch.manual_seed(1234)\n",
        "\n",
        "# Check for access to GPU\n",
        "device = \"cuda\" if torch.cuda.is_available() else \"cpu\"\n",
        "print(f\"Device: {device}\")\n",
        "\n",
        "# Create two random tensors on GPU\n",
        "tensor_A = torch.rand(size=(2,3)).to(device)\n",
        "tensor_B = torch.rand(size=(2,3)).to(device)\n",
        "tensor_A, tensor_B"
      ],
      "metadata": {
        "colab": {
          "base_uri": "https://localhost:8080/"
        },
        "id": "CHi5-Kug0Akj",
        "outputId": "e3603e1d-a984-4ae3-d32b-b8c240207f46"
      },
      "execution_count": 20,
      "outputs": [
        {
          "output_type": "stream",
          "name": "stdout",
          "text": [
            "Device: cuda\n"
          ]
        },
        {
          "output_type": "execute_result",
          "data": {
            "text/plain": [
              "(tensor([[0.0290, 0.4019, 0.2598],\n",
              "         [0.3666, 0.0583, 0.7006]], device='cuda:0'),\n",
              " tensor([[0.0518, 0.4681, 0.6738],\n",
              "         [0.3315, 0.7837, 0.5631]], device='cuda:0'))"
            ]
          },
          "metadata": {},
          "execution_count": 20
        }
      ]
    },
    {
      "cell_type": "markdown",
      "source": [
        "6. Perform a matrix multiplication on the tensors you created in 5 (again, you may have to adjust the shapes of one of the tensors)."
      ],
      "metadata": {
        "id": "-0Bh5OTL0fKz"
      }
    },
    {
      "cell_type": "code",
      "source": [
        "tensor_C = torch.mm(tensor_A, tensor_B.T)\n",
        "tensor_C, tensor_C.shape"
      ],
      "metadata": {
        "colab": {
          "base_uri": "https://localhost:8080/"
        },
        "id": "fHF7QCGj0Afh",
        "outputId": "d6f70f58-3c3e-46fd-b322-883bf7b3906e"
      },
      "execution_count": 21,
      "outputs": [
        {
          "output_type": "execute_result",
          "data": {
            "text/plain": [
              "(tensor([[0.3647, 0.4709],\n",
              "         [0.5184, 0.5617]], device='cuda:0'), torch.Size([2, 2]))"
            ]
          },
          "metadata": {},
          "execution_count": 21
        }
      ]
    },
    {
      "cell_type": "markdown",
      "source": [
        "7. Find the maximum and minimum values of the output of 6."
      ],
      "metadata": {
        "id": "QEru7MEw0xNj"
      }
    },
    {
      "cell_type": "code",
      "source": [
        "torch.min(tensor_C), torch.max(tensor_C)"
      ],
      "metadata": {
        "colab": {
          "base_uri": "https://localhost:8080/"
        },
        "id": "u7HRKDJd0AZW",
        "outputId": "d2612e25-ad77-4218-e0ec-ea9bbab09f51"
      },
      "execution_count": 22,
      "outputs": [
        {
          "output_type": "execute_result",
          "data": {
            "text/plain": [
              "(tensor(0.3647, device='cuda:0'), tensor(0.5617, device='cuda:0'))"
            ]
          },
          "metadata": {},
          "execution_count": 22
        }
      ]
    },
    {
      "cell_type": "markdown",
      "source": [
        "8. Find the maximum and minimum index values of the output of 6."
      ],
      "metadata": {
        "id": "GzWqQApQ1Fm2"
      }
    },
    {
      "cell_type": "code",
      "source": [
        "torch.argmin(tensor_C), torch.argmax(tensor_C)"
      ],
      "metadata": {
        "colab": {
          "base_uri": "https://localhost:8080/"
        },
        "id": "7Whp6Mmv0z_E",
        "outputId": "fc67645c-b8b8-4727-d69c-cf3e7c279428"
      },
      "execution_count": 23,
      "outputs": [
        {
          "output_type": "execute_result",
          "data": {
            "text/plain": [
              "(tensor(0, device='cuda:0'), tensor(3, device='cuda:0'))"
            ]
          },
          "metadata": {},
          "execution_count": 23
        }
      ]
    },
    {
      "cell_type": "markdown",
      "source": [
        "9. Make a random tensor with shape (1, 1, 1, 10) and then create a new tensor with all the 1 dimensions removed to be left with a tensor of shape (10). Set the seed to 7 when you create it and print out the first tensor and it's shape as well as the second tensor and it's shape."
      ],
      "metadata": {
        "id": "kCgCebf-1b8_"
      }
    },
    {
      "cell_type": "code",
      "source": [
        "random_tensor_D = torch.rand(1, 1, 1, 10)\n",
        "print(random_tensor_D, random_tensor_D.shape)\n",
        "\n",
        "random_tensor_E = random_tensor_D.squeeze()\n",
        "print(random_tensor_E, random_tensor_E.shape)"
      ],
      "metadata": {
        "colab": {
          "base_uri": "https://localhost:8080/"
        },
        "id": "bvO6fhn50z7v",
        "outputId": "2baec652-965f-4176-aa7d-a7a49861cefb"
      },
      "execution_count": 24,
      "outputs": [
        {
          "output_type": "stream",
          "name": "stdout",
          "text": [
            "tensor([[[[0.7749, 0.8208, 0.2793, 0.6817, 0.2837, 0.6567, 0.2388, 0.7313,\n",
            "           0.6012, 0.3043]]]]) torch.Size([1, 1, 1, 10])\n",
            "tensor([0.7749, 0.8208, 0.2793, 0.6817, 0.2837, 0.6567, 0.2388, 0.7313, 0.6012,\n",
            "        0.3043]) torch.Size([10])\n"
          ]
        }
      ]
    },
    {
      "cell_type": "code",
      "source": [],
      "metadata": {
        "id": "BfgmlXvh2Pxn"
      },
      "execution_count": null,
      "outputs": []
    }
  ]
}